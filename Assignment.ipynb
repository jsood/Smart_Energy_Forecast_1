{
 "cells": [
  {
   "cell_type": "code",
   "execution_count": 167,
   "metadata": {},
   "outputs": [],
   "source": [
    "import pandas as pd\n",
    "import numpy as np\n",
    "import csv\n",
    "from datetime import datetime, timedelta\n",
    "from sklearn.datasets import make_regression\n",
    "from sklearn import linear_model\n",
    "from sklearn.neighbors import KNeighborsRegressor\n",
    "from sklearn.datasets import make_regression\n",
    "from sklearn.ensemble import RandomForestRegressor\n",
    "from sklearn.ensemble import AdaBoostRegressor\n",
    "from sklearn.metrics import mean_squared_error, r2_score"
   ]
  },
  {
   "cell_type": "code",
   "execution_count": 168,
   "metadata": {},
   "outputs": [
    {
     "name": "stdout",
     "output_type": "stream",
     "text": [
      "Which Home?2\n"
     ]
    }
   ],
   "source": [
    "home = raw_input(\"Which Home?\")\n",
    "file_path = 'Year1/Home' + home + '_yr1.csv'"
   ]
  },
  {
   "cell_type": "code",
   "execution_count": 169,
   "metadata": {},
   "outputs": [
    {
     "name": "stdout",
     "output_type": "stream",
     "text": [
      "Year1/Home2_yr1.csv\n"
     ]
    }
   ],
   "source": [
    "print(file_path)\n",
    "df = pandas.read_csv(file_path)\n",
    "def datetime_range(start, end, delta):\n",
    "    end += 4*delta\n",
    "    current = start\n",
    "    while current < end:\n",
    "        yield current\n",
    "        current += delta\n",
    "\n",
    "dts = [dt for dt in \n",
    "       datetime_range(datetime(2018, 1, 1, 0), datetime(2018, 12 , 31 , 23), \n",
    "       timedelta(minutes=15))]\n",
    "df['date/time'] = dts"
   ]
  },
  {
   "cell_type": "code",
   "execution_count": 170,
   "metadata": {},
   "outputs": [],
   "source": [
    "for i, row in df.iterrows():\n",
    "#handling seasons\n",
    "    df.at[i, 'Date'] = row[1].day\n",
    "    df.at[i, 'Month'] = row[1].month\n",
    "    df.at[i, 'Hour'] = row[1].hour\n",
    "    df.at[i, 'Minute'] = row[1].minute\n",
    "    if row[1].month in range(1,4) :\n",
    "        df.at[i, 'Summer'] = 1\n",
    "    elif row[1].month in range(4,7):\n",
    "        df.at[i, 'Spring'] = 1\n",
    "    elif row[1].month in range(7,10):\n",
    "        df.at[i, 'Fall'] = 1\n",
    "    elif row[1].month in range(10,13):\n",
    "        df.at[i, 'Winter'] = 1\n",
    "        \n",
    "#handling peak hours   \n",
    "    if row[1].hour in [0,1,2,3,4,5,6,7,20,21,22,23]:\n",
    "        df.at[i, 'Peak Hour'] = 1\n",
    "    else:\n",
    "        df.at[i, 'Peak Hour'] = 0\n",
    "        \n",
    "#handling holidays & weekends\n",
    "    if row[1].weekday() in [5,6] :\n",
    "        df.at[i, 'Holiday'] = 1\n",
    "    elif row[1].month == 10 and row[1].day == 2:\n",
    "        df.at[i, 'Holiday'] = 1\n",
    "    elif row[1].month == 1 and row[1].day == 26:\n",
    "        df.at[i, 'Holiday'] = 1\n",
    "    else:\n",
    "        df.at[i, 'Holiday'] = 0\n",
    "\n",
    "df['Spring'].fillna(0,inplace=True)\n",
    "df['Fall'].fillna(0,inplace=True)\n",
    "df['Summer'].fillna(0,inplace=True)\n",
    "df['Winter'].fillna(0,inplace=True)"
   ]
  },
  {
   "cell_type": "code",
   "execution_count": 211,
   "metadata": {},
   "outputs": [
    {
     "name": "stdout",
     "output_type": "stream",
     "text": [
      "Enter the Month:12\n",
      "Enter the Date:30\n",
      "Enter the Hour:0\n",
      "Enter the Minute:0\n",
      "2018-12-30 00:00:00\n"
     ]
    }
   ],
   "source": [
    "month = raw_input(\"Enter the Month:\")\n",
    "date = raw_input(\"Enter the Date:\")\n",
    "hour = raw_input(\"Enter the Hour:\")\n",
    "minute = raw_input(\"Enter the Minute:\")\n",
    "dt = datetime(2018, int(month), int(date), int(hour), int(minute) , 0)\n",
    "print(dt)"
   ]
  },
  {
   "cell_type": "code",
   "execution_count": 212,
   "metadata": {},
   "outputs": [],
   "source": [
    "for i, row in df.iterrows():\n",
    "    if row[1] == dt:\n",
    "        break\n",
    "x_train = df[['Date','Month','Hour','Minute','Summer','Winter', 'Fall','Spring' , 'Holiday', 'Peak Hour']][:i]\n",
    "y_train = df[['Consumption']][:i]\n",
    "x_test = df[['Date','Month','Hour','Minute','Summer','Winter', 'Fall','Spring' , 'Holiday', 'Peak Hour']] [i:96+i]\n",
    "y_test = df[['Consumption']][i:96+i]"
   ]
  },
  {
   "cell_type": "code",
   "execution_count": 213,
   "metadata": {},
   "outputs": [
    {
     "name": "stdout",
     "output_type": "stream",
     "text": [
      "Mean squared error LR: 1.868874644\n"
     ]
    }
   ],
   "source": [
    "regr = linear_model.LinearRegression()\n",
    "regr.fit(x_train, y_train)\n",
    "y_pred_r = regr.predict(x_test)\n",
    "print(\"Mean squared error LR: %.9f\"\n",
    "      % mean_squared_error(y_test,y_pred_r))\n",
    "y_pred_r = pd.DataFrame({'Predicted Consumption':y_pred_r[:,0]}, index=y_test.index) \n",
    "dur = [dt for dt in \n",
    "       datetime_range(datetime(2018, int(month), int(date), int(hour), int(minute)), datetime(2018, 12 , 31 , 23), \n",
    "       timedelta(minutes=15))]\n",
    "dur = dur[0:96]\n",
    "y_pred_r['Actual Consumption'] = y_test\n",
    "y_pred_r['Date/Time'] = dur\n",
    "#display(y_pred_r)"
   ]
  },
  {
   "cell_type": "code",
   "execution_count": 214,
   "metadata": {},
   "outputs": [
    {
     "name": "stdout",
     "output_type": "stream",
     "text": [
      "Mean squared error LR: 3.879858311\n"
     ]
    }
   ],
   "source": [
    "regr = KNeighborsRegressor(n_neighbors=1)\n",
    "regr.fit(x_train, y_train)\n",
    "y_pred_r = regr.predict(x_test)\n",
    "#print(y_pred_r)\n",
    "print(\"Mean squared error LR: %.9f\"\n",
    "      % mean_squared_error(y_test,y_pred_r))\n",
    "y_pred_r = pd.DataFrame({'Predicted Consumption':y_pred_r[:,0]}, index=y_test.index) \n",
    "dur = [dt for dt in \n",
    "       datetime_range(datetime(2018, int(month), int(date), int(hour), int(minute)), datetime(2018, 12 , 31 , 23), \n",
    "       timedelta(minutes=15))]\n",
    "dur = dur[0:96]\n",
    "y_pred_r['Actual Consumption'] = y_test\n",
    "y_pred_r['Date/Time'] = dur\n",
    "#display(y_pred_r)"
   ]
  },
  {
   "cell_type": "code",
   "execution_count": 215,
   "metadata": {},
   "outputs": [
    {
     "name": "stdout",
     "output_type": "stream",
     "text": [
      "Mean squared error LR: 2.586669019\n"
     ]
    }
   ],
   "source": [
    "regr = AdaBoostRegressor(base_estimator=None, n_estimators=50, learning_rate=1.0, loss='linear', random_state=None)\n",
    "regr.fit(x_train, y_train)\n",
    "y_pred_r = regr.predict(x_test)\n",
    "print(\"Mean squared error LR: %.9f\"\n",
    "      % mean_squared_error(y_test,y_pred_r))\n",
    "# y_pred_r = pd.DataFrame({'Predicted Consumption':y_pred_r[:,0]}, index=y_test.index) \n",
    "# dur = [dt for dt in \n",
    "#        datetime_range(datetime(2018, int(month), int(date), int(hour), int(minute)), datetime(2018, 12 , 31 , 23), \n",
    "#        timedelta(minutes=15))]\n",
    "# dur = dur[0:96]\n",
    "# y_pred_r['Actual Consumption'] = y_test\n",
    "# y_pred_r['Date/Time'] = dur\n",
    "# display(y_pred_r)"
   ]
  },
  {
   "cell_type": "code",
   "execution_count": 216,
   "metadata": {},
   "outputs": [
    {
     "name": "stdout",
     "output_type": "stream",
     "text": [
      "Mean squared error LR: 2.094189538\n"
     ]
    },
    {
     "name": "stderr",
     "output_type": "stream",
     "text": [
      "/anaconda3/lib/python2.7/site-packages/ipykernel_launcher.py:2: DataConversionWarning: A column-vector y was passed when a 1d array was expected. Please change the shape of y to (n_samples,), for example using ravel().\n",
      "  \n"
     ]
    }
   ],
   "source": [
    "regr = RandomForestRegressor(max_depth=2, random_state=0)\n",
    "regr.fit(x_train, y_train)\n",
    "y_pred_r = regr.predict(x_test)\n",
    "print(\"Mean squared error LR: %.9f\"\n",
    "      % mean_squared_error(y_test,y_pred_r))\n",
    "# y_pred_r = pd.DataFrame({'Predicted Consumption':y_pred_r[:,0]}, index=y_test.index) \n",
    "# dur = [dt for dt in \n",
    "#        datetime_range(datetime(2018, int(month), int(date), int(hour), int(minute)), datetime(2018, 12 , 31 , 23), \n",
    "#        timedelta(minutes=15))]\n",
    "# dur = dur[0:96]\n",
    "# y_pred_r['Actual Consumption'] = y_test\n",
    "# y_pred_r['Date/Time'] = dur\n",
    "# display(y_pred_r)"
   ]
  },
  {
   "cell_type": "code",
   "execution_count": null,
   "metadata": {},
   "outputs": [],
   "source": []
  }
 ],
 "metadata": {
  "kernelspec": {
   "display_name": "Python 2",
   "language": "python",
   "name": "python2"
  },
  "language_info": {
   "codemirror_mode": {
    "name": "ipython",
    "version": 2
   },
   "file_extension": ".py",
   "mimetype": "text/x-python",
   "name": "python",
   "nbconvert_exporter": "python",
   "pygments_lexer": "ipython2",
   "version": "2.7.8"
  }
 },
 "nbformat": 4,
 "nbformat_minor": 2
}
