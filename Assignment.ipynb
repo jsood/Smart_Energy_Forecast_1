{
 "cells": [
  {
   "cell_type": "code",
   "execution_count": 56,
   "metadata": {},
   "outputs": [],
   "source": [
    "import pandas\n",
    "import csv\n",
    "from datetime import datetime, timedelta"
   ]
  },
  {
   "cell_type": "code",
   "execution_count": 61,
   "metadata": {},
   "outputs": [
    {
     "name": "stdout",
     "output_type": "stream",
     "text": [
      "Which Home?2\n"
     ]
    }
   ],
   "source": [
    "home = raw_input(\"Which Home?\")\n",
    "file_path = 'Year1/Home' + home + '_yr1.csv'"
   ]
  },
  {
   "cell_type": "code",
   "execution_count": 62,
   "metadata": {},
   "outputs": [
    {
     "name": "stdout",
     "output_type": "stream",
     "text": [
      "Year1/Home2_yr1.csv\n",
      "35040\n",
      "35040\n"
     ]
    }
   ],
   "source": [
    "print(file_path)\n",
    "df = pandas.read_csv(file_path)\n",
    "print(len(df))\n",
    "def datetime_range(start, end, delta):\n",
    "    end += 4*delta\n",
    "    current = start\n",
    "    while current < end:\n",
    "        yield current\n",
    "        current += delta\n",
    "\n",
    "dts = [dt for dt in \n",
    "       datetime_range(datetime(2018, 1, 1, 0), datetime(2018, 12 , 31 , 23), \n",
    "       timedelta(minutes=15))]\n",
    "print(len(dts))\n",
    "df['date/time'] = dts\n"
   ]
  },
  {
   "cell_type": "code",
   "execution_count": 63,
   "metadata": {},
   "outputs": [
    {
     "name": "stdout",
     "output_type": "stream",
     "text": [
      "    Consumption           date/time  Season  Peak Hour  Holiday\n",
      "0       1.52690 2018-01-01 00:00:00  Summer        1.0      0.0\n",
      "1       0.52416 2018-01-01 00:15:00  Summer        1.0      0.0\n",
      "2       1.26470 2018-01-01 00:30:00  Summer        1.0      0.0\n",
      "3       1.41940 2018-01-01 00:45:00  Summer        1.0      0.0\n",
      "4       0.63155 2018-01-01 01:00:00  Summer        1.0      0.0\n",
      "5       1.47170 2018-01-01 01:15:00  Summer        1.0      0.0\n",
      "6       2.13700 2018-01-01 01:30:00  Summer        1.0      0.0\n",
      "7       0.51994 2018-01-01 01:45:00  Summer        1.0      0.0\n",
      "8       0.51909 2018-01-01 02:00:00  Summer        1.0      0.0\n",
      "9       2.20040 2018-01-01 02:15:00  Summer        1.0      0.0\n",
      "10      2.16750 2018-01-01 02:30:00  Summer        1.0      0.0\n",
      "11      0.58778 2018-01-01 02:45:00  Summer        1.0      0.0\n",
      "12      0.52810 2018-01-01 03:00:00  Summer        1.0      0.0\n",
      "13      0.52379 2018-01-01 03:15:00  Summer        1.0      0.0\n",
      "14      2.04660 2018-01-01 03:30:00  Summer        1.0      0.0\n",
      "15      0.52549 2018-01-01 03:45:00  Summer        1.0      0.0\n",
      "16      0.62937 2018-01-01 04:00:00  Summer        1.0      0.0\n",
      "17      2.02130 2018-01-01 04:15:00  Summer        1.0      0.0\n",
      "18      0.51517 2018-01-01 04:30:00  Summer        1.0      0.0\n",
      "19      0.52374 2018-01-01 04:45:00  Summer        1.0      0.0\n",
      "20      2.09430 2018-01-01 05:00:00  Summer        1.0      0.0\n",
      "21      0.51865 2018-01-01 05:15:00  Summer        1.0      0.0\n",
      "22      2.52540 2018-01-01 05:30:00  Summer        1.0      0.0\n",
      "23      2.70140 2018-01-01 05:45:00  Summer        1.0      0.0\n",
      "24      0.81055 2018-01-01 06:00:00  Summer        1.0      0.0\n",
      "25      0.51806 2018-01-01 06:15:00  Summer        1.0      0.0\n",
      "26      0.81121 2018-01-01 06:30:00  Summer        1.0      0.0\n",
      "27      3.45620 2018-01-01 06:45:00  Summer        1.0      0.0\n",
      "28      2.07040 2018-01-01 07:00:00  Summer        1.0      0.0\n",
      "29      0.62871 2018-01-01 07:15:00  Summer        1.0      0.0\n",
      "..          ...                 ...     ...        ...      ...\n",
      "67      0.51032 2018-01-01 16:45:00  Summer        0.0      0.0\n",
      "68      0.50760 2018-01-01 17:00:00  Summer        0.0      0.0\n",
      "69      0.52012 2018-01-01 17:15:00  Summer        0.0      0.0\n",
      "70      2.45140 2018-01-01 17:30:00  Summer        0.0      0.0\n",
      "71      0.83191 2018-01-01 17:45:00  Summer        0.0      0.0\n",
      "72      0.51514 2018-01-01 18:00:00  Summer        0.0      0.0\n",
      "73      3.21630 2018-01-01 18:15:00  Summer        0.0      0.0\n",
      "74      0.51025 2018-01-01 18:30:00  Summer        0.0      0.0\n",
      "75      1.39700 2018-01-01 18:45:00  Summer        0.0      0.0\n",
      "76      0.92588 2018-01-01 19:00:00  Summer        0.0      0.0\n",
      "77      0.62113 2018-01-01 19:15:00  Summer        0.0      0.0\n",
      "78      0.51683 2018-01-01 19:30:00  Summer        0.0      0.0\n",
      "79      2.21960 2018-01-01 19:45:00  Summer        0.0      0.0\n",
      "80      3.41120 2018-01-01 20:00:00  Summer        1.0      0.0\n",
      "81      3.40280 2018-01-01 20:15:00  Summer        1.0      0.0\n",
      "82      3.11410 2018-01-01 20:30:00  Summer        1.0      0.0\n",
      "83      0.62021 2018-01-01 20:45:00  Summer        1.0      0.0\n",
      "84      0.54105 2018-01-01 21:00:00  Summer        1.0      0.0\n",
      "85      2.36000 2018-01-01 21:15:00  Summer        1.0      0.0\n",
      "86      0.52406 2018-01-01 21:30:00  Summer        1.0      0.0\n",
      "87      0.52434 2018-01-01 21:45:00  Summer        1.0      0.0\n",
      "88      0.59589 2018-01-01 22:00:00  Summer        1.0      0.0\n",
      "89      0.62588 2018-01-01 22:15:00  Summer        1.0      0.0\n",
      "90      0.54105 2018-01-01 22:30:00  Summer        1.0      0.0\n",
      "91      1.88520 2018-01-01 22:45:00  Summer        1.0      0.0\n",
      "92      0.51260 2018-01-01 23:00:00  Summer        1.0      0.0\n",
      "93      0.51162 2018-01-01 23:15:00  Summer        1.0      0.0\n",
      "94      1.39930 2018-01-01 23:30:00  Summer        1.0      0.0\n",
      "95      1.11140 2018-01-01 23:45:00  Summer        1.0      0.0\n",
      "96      0.55880 2018-01-02 00:00:00  Summer        1.0      0.0\n",
      "\n",
      "[97 rows x 5 columns]\n"
     ]
    }
   ],
   "source": [
    "for i, row in df.iterrows():\n",
    "#handling seasons\n",
    "    if row[1].month in range(1,4) :\n",
    "        df.at[i, 'Season'] = 'Summer'\n",
    "    elif row[1].month in range(4,7):\n",
    "        df.at[i, 'Season'] = 'Spring'\n",
    "    elif row[1].month in range(7,10):\n",
    "        df.at[i, 'Season'] = 'Fall'\n",
    "    elif row[1].month in range(10,13):\n",
    "        df.at[i, 'Season'] = 'Winter'\n",
    "        \n",
    "#handling peak hours   \n",
    "    if row[1].hour in [0,1,2,3,4,5,6,7,20,21,22,23]:\n",
    "        df.at[i, 'Peak Hour'] = 1\n",
    "    else:\n",
    "        df.at[i, 'Peak Hour'] = 0\n",
    "        \n",
    "#handling holidays & weekends\n",
    "    if row[1].weekday() in [5,6] :\n",
    "        df.at[i, 'Holiday'] = 1\n",
    "    elif row[1].month == 10 and row[1].day == 2:\n",
    "        df.at[i, 'Holiday'] = 1\n",
    "    elif row[1].month == 1 and row[1].day == 26:\n",
    "        df.at[i, 'Holiday'] = 1\n",
    "    else:\n",
    "        df.at[i, 'Holiday'] = 0\n",
    "\n",
    "    \n",
    "print(df.head(97))"
   ]
  },
  {
   "cell_type": "code",
   "execution_count": null,
   "metadata": {},
   "outputs": [],
   "source": []
  },
  {
   "cell_type": "code",
   "execution_count": null,
   "metadata": {},
   "outputs": [],
   "source": []
  }
 ],
 "metadata": {
  "kernelspec": {
   "display_name": "Python 2",
   "language": "python",
   "name": "python2"
  },
  "language_info": {
   "codemirror_mode": {
    "name": "ipython",
    "version": 2
   },
   "file_extension": ".py",
   "mimetype": "text/x-python",
   "name": "python",
   "nbconvert_exporter": "python",
   "pygments_lexer": "ipython2",
   "version": "2.7.8"
  }
 },
 "nbformat": 4,
 "nbformat_minor": 2
}
